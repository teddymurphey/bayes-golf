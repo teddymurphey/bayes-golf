{
 "cells": [
  {
   "cell_type": "markdown",
   "id": "c37731e8",
   "metadata": {},
   "source": [
    "# Bayesian Updating in Golf\n",
    "## Teddy Murphey\n",
    "## Dr. Michael Klucznik, Dr. Chris Bopp, Dr. Chris Hill"
   ]
  },
  {
   "cell_type": "markdown",
   "id": "2cf31caf",
   "metadata": {},
   "source": [
    "### Developing Bayesian Prior Distributions\n",
    "The first step in creating a bayesian updating model for golf prediction is the development of a prior distribution. We accomplish this by computing average distributions from historically unbiased tournaments. We select the 2022 CJ Cup as its adjusted score relative to par was just +0.05, a significantly low differential. The advantage of using an unbiased tournament is that golfers performed exceptionally close to \"normal.\" Golf course metrics such as slope rating and course rating (which we will use) are based on \"normal\" scoring."
   ]
  },
  {
   "cell_type": "code",
   "execution_count": null,
   "id": "32ed9093",
   "metadata": {},
   "outputs": [],
   "source": [
    "# import scoring average from local csv"
   ]
  },
  {
   "cell_type": "code",
   "execution_count": null,
   "id": "7fae1948",
   "metadata": {},
   "outputs": [],
   "source": [
    "# Check working directory\n",
    "import os\n",
    "print(os.getcwd())\n",
    "\n",
    "# Import csv and check its properties\n",
    "import pandas as pd\n",
    "import numpy as np\n",
    "df = pd.read_csv('CJ_Cup_2022.csv')\n",
    "print(df.shape, df.columns)"
   ]
  },
  {
   "cell_type": "markdown",
   "id": "a914bd15",
   "metadata": {},
   "source": [
    "Here, we find the probability of each golf score by dividing each distinct score count by the total."
   ]
  },
  {
   "cell_type": "code",
   "execution_count": null,
   "id": "aca1a09d",
   "metadata": {},
   "outputs": [],
   "source": [
    "# Count total \n",
    "totalResults = df['Eagles'].sum() + df['Birdies'].sum() + df['Pars'].sum() + df['Bogeys'].sum() + df['Dbls+'].sum()\n",
    "print(totalResults)\n",
    "\n",
    "# Compute probability for each score\n",
    "eagleProb = df['Eagles'].sum() / totalResults\n",
    "birdieProb = df['Birdies'].sum() / totalResults\n",
    "parProb = df['Pars'].sum() / totalResults\n",
    "bogeyProb = df['Bogeys'].sum() / totalResults\n",
    "doublePlusProb = df['Dbls+'].sum() / totalResults\n",
    "\n",
    "# Here we see the probability of each score\n",
    "# Note that this includes all possible scores on a golf hole except a hole-in-one on a par 4/5 and an albatross (2 on a par 5)\n",
    "print(\"Score Probabilities (in %):\\nEagle:\", eagleProb * 100, \"\\nBirdie:\", birdieProb * 100, \"\\nPar:\", parProb * 100, \"\\nBogey:\", bogeyProb * 100, \"\\nDouble Bogey Plus:\", doublePlusProb * 100)\n",
    "print(\"Check that total probability adds to 1:\", eagleProb + birdieProb + parProb + bogeyProb + doublePlusProb)"
   ]
  },
  {
   "cell_type": "markdown",
   "id": "5e85074c",
   "metadata": {},
   "source": [
    "### Required Inputs for Analysis\n",
    "To predict match play results, we need to know a few things about our golfers and the course.\n",
    "1. Golfers' handicaps\n",
    "    - Score distributions are adjusted based on each handicap\n",
    "    - This is the metric that will change based on hole results\n",
    "2. Course rating\n",
    "    - No two courses are the same\n",
    "    - The official rating helps us adjust for course difficulty\n",
    "3. Slope rating\n",
    "    - Difficult courses hurt bad golfers **more** than good golfers\n",
    "    - This rating accounts for the difference between how a bogey golfer and a scratch golfer should perform\n",
    "4. We need these additional values for **each** hole:\n",
    "    1. Hole handicap index: a number between 1 and 18\n",
    "    2. Each golfer's score on the hole: birdie, par, etc."
   ]
  },
  {
   "cell_type": "markdown",
   "id": "8c8859a7",
   "metadata": {},
   "source": [
    "### Collecting Global Variables from User\n",
    "The user will input the necessary variables for our analysis here. Players' **initial handicap indices**, the course's **total par**, the course's **rating**, and the **slope rating** will not change."
   ]
  },
  {
   "cell_type": "code",
   "execution_count": null,
   "id": "8ef0e2bb",
   "metadata": {
    "scrolled": true
   },
   "outputs": [],
   "source": [
    "# Start by requesting user for all relevant inputs\n",
    "# These first six inputs will be used for the entire match; they do not change each hole\n",
    "\n",
    "# Note that the USGA only provides statistics for two genders: male and female\n",
    "genderA = input(\"Gender associated with Player A's USGA membership (M/F): \")\n",
    "genderB = input(\"Gender associated with Player B's USGA membership (M/F): \")\n",
    "\n",
    "initialHandicapA = float(input(\"Enter Player A's handicap: \"))\n",
    "initialHandicapB = float(input(\"Enter Player B's handicap: \"))\n",
    "\n",
    "coursePar = int(input(\"Course's total par: \"))\n",
    "courseRating = float(input(\"Enter course rating: \"))\n",
    "slopeRating = float(input(\"Enter slope rating: \"))"
   ]
  },
  {
   "cell_type": "markdown",
   "id": "2b21144a",
   "metadata": {},
   "source": [
    "### Calculated Variables\n",
    "Using inputted variables, we then calculate some more useful variables. To compare players in 1v1 matchplay, their handicaps are subtracted. But we can't simply subtract the players' handicap indices, since each of their playing handicaps differ depending on the course. We need to find a **course handicap** for each player by accounting for the **slope rating**. Note that we collected **course rating** from the user, but will not use it. This is because the current USGA standards, which we will use, require only **slope rating**. **Course rating** is, however, used by other organizations when calculating **course handicap**, so it may come in handy in certain future situations."
   ]
  },
  {
   "cell_type": "code",
   "execution_count": null,
   "id": "b6dce336",
   "metadata": {},
   "outputs": [],
   "source": [
    "# These calculations use the USGA's formula for course handicap; C.H. = (H.I. * S.R.) / 113\n",
    "courseHandicapA = (initialHandicapA * slopeRating) / 113\n",
    "courseHandicapB = (initialHandicapB * slopeRating) / 113\n",
    "print(\"Player A's course handicap:\", courseHandicapA)\n",
    "print(\"Player B's course handicap:\", courseHandicapB)"
   ]
  },
  {
   "cell_type": "markdown",
   "id": "b41ce17f",
   "metadata": {},
   "source": [
    "After finding **course handicaps** for each player, we subtract the smaller from the larger. Handicaps, in general, determine how many extra strokes players are allotted per round. Simply put, a player with a **course handicap** of 6 will have a stroke subtracted from their score on each of the course's 6 hardest holes.\n",
    "\n",
    "To directly compare two players, we take the difference in their handicaps and give that many strokes to the worse player. So, rather than a 16 handicap getting strokes on the 16 hardest holes and a 12 handicap getting strokes on the 12 hardest holes, we simply give the former player 16 - 12 = 4 strokes. The first player will get a stroke subtracted on each of the 4 hardest holes, which is much easier to keep track of, but is effectively the same handicap (for match purposes)."
   ]
  },
  {
   "cell_type": "code",
   "execution_count": null,
   "id": "1d6d5569",
   "metadata": {},
   "outputs": [],
   "source": [
    "# Beyond subtraction, we round off to the nearest whole number since golf scores, and, thus, handicap-adjusted scores, must be whole.\n",
    "playingDifferential = round(abs(courseHandicapA - courseHandicapB))\n",
    "print('Strokes to be given to higher handicapper: ', playingDifferential)"
   ]
  },
  {
   "cell_type": "markdown",
   "id": "ad0b819a",
   "metadata": {},
   "source": [
    "### Match Procedure\n",
    "In my proposed live handicapping system, we will use bayesian updating to make live adjustments to each players' handicaps. Using our prior score distribution, we will calculate the posterior probability of certain scores being achieved. These will be compared with the players' reported scores. If a reported score is determined to be statistically improbable, then a handicap adjustment will be performed. Incorrect handicaps are a prominent problem in golf, whether intentional (\"a sandbagger\") or unintentional. Making adjustments based on impossible outcomes is how we will try to fix the problem."
   ]
  },
  {
   "cell_type": "markdown",
   "id": "096259f4",
   "metadata": {},
   "source": [
    "Procedure for each hole (essentially pseudocode for a function):\n",
    "1. Collect necessary inputs from user\n",
    "    1. Hole par: 3-5\n",
    "    1. Hole handicap index: 1-18\n",
    "    2. Player A score: birdie, par, etc.\n",
    "    3. Player B score: birdie, par, etc.\n",
    "2. Compute probabilities for each player's score given their handicap.\n",
    "    1. P(Score|Handicap) = prior distribution (adjusted for handicap; e.g., if getting a stroke, par is 20.139% chance, not birdie)\n",
    "    2. P(Handicap) = ???\n",
    "    3. P(Score) = ???\n",
    "    4. P(Handicap|Score) = P(Score|Handicap) * (P(Handicap) / P(Score))"
   ]
  },
  {
   "cell_type": "markdown",
   "id": "fb1f0cfb",
   "metadata": {},
   "source": [
    "Some variables change hole-to-hole, so we will collect these each hole."
   ]
  },
  {
   "cell_type": "code",
   "execution_count": null,
   "id": "a330dde7",
   "metadata": {},
   "outputs": [],
   "source": [
    "# Hole handicaps indicate the difficulty of the hole; 1 is hardest, 18 is easiest\n",
    "# If a player's stroke allowance is >= hole handicap, then the player receives a stroke\n",
    "# In the case where a player's handicap is below 0 (indicated by a +), they give a stroke on the easier holes\n",
    "# (a +3 handicap has a stroke added on the holes handicapped 18, 17, and 16)\n",
    "# In the case where a player's handicap is above 18, they receive multiple strokes on the hardest holes\n",
    "# (a 22 handicap receives a stroke on the holes handicapped 1-18 and an additional, second stroke on the holes handicapped 1-4)\n",
    "holePar = float(input(\"Enter the current hole's par (3-5): \"))\n",
    "holeIndex = float(input(\"Enter the current hole's handicap index: \"))\n",
    "scoreA = float(input(\"Enter Player A's numeric score: \"))\n",
    "scoreB = float(input(\"Enter Player B's numeric score: \"))\n"
   ]
  },
  {
   "cell_type": "markdown",
   "id": "f562d0be",
   "metadata": {},
   "source": [
    "After the players report the par, index, and scores, we need to calculate the score type. We have our prior data in terms of birdie, par, etc., so we need scores converted to this. We write a function to handle this since it may need repeated. We then use our new function to convert each player's score to the categorical equivalent. Keep in mind, since we are evaluating the validity of players' handicaps, we want their raw score to analyze. So, we do not actually grant the allotted strokes here."
   ]
  },
  {
   "cell_type": "code",
   "execution_count": null,
   "id": "63e01f77",
   "metadata": {},
   "outputs": [],
   "source": [
    "def convertScore(score, par):\n",
    "    \"\"\"\n",
    "    Converts a player's numeric score to string\n",
    "    \n",
    "    Parameters:\n",
    "        score (int): strokes taken by player on hole\n",
    "        par (int): par for the hole (usually 3, 4, or 5)\n",
    "        \n",
    "    Returns:\n",
    "        string: name for the hole result (Eagle, Birdie, Par, Bogey, Double Bogey+)\n",
    "    \n",
    "    \"\"\"\n",
    "    \n",
    "    # Dictionary to associate number with categorical score\n",
    "    d1 = {-2 : \"Eagle\",\n",
    "         -1 : \"Birdie\",\n",
    "          0 : \"Par\",\n",
    "          1 : \"Bogey\"}\n",
    "    \n",
    "    relativeToPar = score - par\n",
    "    \n",
    "    if relativeToPar < -2:\n",
    "        return \"None\"\n",
    "        \n",
    "    elif relativeToPar > 1:\n",
    "        return \"Double Bogey+\"\n",
    "    \n",
    "    else:\n",
    "        return d1[relativeToPar]"
   ]
  },
  {
   "cell_type": "code",
   "execution_count": null,
   "id": "b4e4222e",
   "metadata": {},
   "outputs": [],
   "source": [
    "catScoreA = convertScore(scoreA, holePar)\n",
    "catScoreB = convertScore(scoreB, holePar)\n",
    "\n",
    "print(\"Player A scored a\", catScoreA, \"and Player B scored a\", catScoreB)"
   ]
  },
  {
   "cell_type": "markdown",
   "id": "caf08a14",
   "metadata": {},
   "source": [
    "Now that we have a score from each player, we find the probability of this score by adjusting for their handicap."
   ]
  },
  {
   "cell_type": "code",
   "execution_count": null,
   "id": "6404e122",
   "metadata": {},
   "outputs": [],
   "source": [
    "if (courseHandicapA - holeIndex) >= 36:\n",
    "    adjCatScoreA = convertScore(scoreA - 3, holePar)\n",
    "elif (courseHandicapA - holeIndex) >= 18:\n",
    "    adjCatScoreA = convertScore(scoreA - 2, holePar)\n",
    "elif (courseHandicapA - holeIndex) >= 0:\n",
    "    adjCatScoreA = convertScore(scoreA - 1, holePar)\n",
    "else:\n",
    "    adjCatScoreA = catScoreA\n",
    "    \n",
    "if (courseHandicapB - holeIndex) >= 36:\n",
    "    adjCatScoreB = convertScore(scoreB - 3, holePar)\n",
    "elif (courseHandicapB - holeIndex) >= 18:\n",
    "    adjCatScoreB = convertScore(scoreB - 2, holePar)\n",
    "elif (courseHandicapB - holeIndex) >= 0:\n",
    "    adjCatScoreB = convertScore(scoreB - 1, holePar)\n",
    "else:\n",
    "    adjCatScoreB = catScoreB\n",
    "    \n",
    "print(\"Adjusting for handicap, Player A scored a net\", adjCatScoreA)\n",
    "print(\"Adjusting for handicap, Player B scored a net\", adjCatScoreB)"
   ]
  },
  {
   "cell_type": "markdown",
   "id": "6781d9f1",
   "metadata": {},
   "source": [
    "Now we calculate the probability of that score."
   ]
  },
  {
   "cell_type": "code",
   "execution_count": null,
   "id": "b06e9edc",
   "metadata": {},
   "outputs": [],
   "source": [
    "# Dictionary to associate categorical score with probability\n",
    "d2 = {\"Eagle\" : eagleProb,\n",
    "     \"Birdie\" : birdieProb,\n",
    "     \"Par\" : parProb,\n",
    "     \"Bogey\" : bogeyProb,\n",
    "     \"Double Bogey+\" : doublePlusProb,\n",
    "     \"None\" : 0}\n",
    "\n",
    "probPlayerA = d2[adjCatScoreA]\n",
    "probPlayerB = d2[adjCatScoreB]\n",
    "\n",
    "print(\"Player A's result of a\", catScoreA, \"( net\", adjCatScoreA, \") has a probability of\", probPlayerA)\n",
    "print(\"Player B's result of a\", catScoreB, \"( net\", adjCatScoreB, \") has a probability of\", probPlayerB)"
   ]
  },
  {
   "cell_type": "markdown",
   "id": "f4daa539",
   "metadata": {},
   "source": [
    "Now that we have the conditional probability of the players' score given their handicap, **probPlayerA** and **probPlayerB**, we need to find the probability of that handicap. Here, we need to find a distribution of handicaps. Here, we again rely on the USGA and [their latest handicapping statistics](https://www.usga.org/handicapping/us-stats-static.html). These probabilities are current as of January 4th, 2024.\n",
    "\n",
    "Note that the USGA only provides statistics for two genders: male and female."
   ]
  },
  {
   "cell_type": "code",
   "execution_count": null,
   "id": "3adcab1d",
   "metadata": {},
   "outputs": [],
   "source": [
    "# Import handicapping distributions from local csv\n",
    "hcProbMale = pd.read_csv('Handicap_Probabilities_Male.csv')\n",
    "hcProbFemale = pd.read_csv('Handicap_Probabilities_Female.csv')\n",
    "\n",
    "print(\"Male handicap distribution data:\\n\", hcProbMale.shape, \"\\n\", hcProbMale)\n",
    "print(\"Female handicap distribution data:\\n\", hcProbFemale.shape, \"\\n\", hcProbFemale)\n",
    "\n",
    "# We then attach the proper distribution to each player based on playing gender\n",
    "if genderA == 'M':\n",
    "    hcProbA = hcProbMale\n",
    "else:\n",
    "    hcProbA = hcProbFemale\n",
    "    \n",
    "if genderB == 'M':\n",
    "    hcProbB = hcProbMale\n",
    "else:\n",
    "    hcProbB = hcProbFemale"
   ]
  },
  {
   "cell_type": "markdown",
   "id": "2a344cdd",
   "metadata": {},
   "source": [
    "Next, we convert each player's handicap to its associated range, as expressed in the above distributions. This will allow us to lookup each handicap using the table."
   ]
  },
  {
   "cell_type": "code",
   "execution_count": null,
   "id": "6bdf8d32",
   "metadata": {},
   "outputs": [],
   "source": [
    "def convertHandicapToRange(handicap):\n",
    "    \"\"\"\n",
    "    Bins a numeric handicap in its associated range as expressed in USGA table\n",
    "    \n",
    "    Parameter:\n",
    "        handicap (float): numeric handicap index, ranges from negative single digits (no exact minimum) to a hard maximum of 54\n",
    "    \n",
    "    Returns:\n",
    "        int: corresponding row in the DataFrame\n",
    "    \"\"\"\n",
    "    \n",
    "    if handicap < 0:\n",
    "        return 0\n",
    "    elif handicap < 5:\n",
    "        return 1\n",
    "    elif handicap < 10:\n",
    "        return 2\n",
    "    elif handicap < 15:\n",
    "        return 3\n",
    "    elif handicap < 20:\n",
    "        return 4\n",
    "    elif handicap < 25:\n",
    "        return 5\n",
    "    elif handicap < 30:\n",
    "        return 6\n",
    "    elif handicap < 35:\n",
    "        return 7\n",
    "    elif handicap < 40:\n",
    "        return 8\n",
    "    elif handicap < 45:\n",
    "        return 9\n",
    "    elif handicap < 50:\n",
    "        return 10\n",
    "    elif handicap <= 54:\n",
    "        return 11\n",
    "    else:\n",
    "        return \"Invalid handicap\""
   ]
  },
  {
   "cell_type": "markdown",
   "id": "19181848",
   "metadata": {},
   "source": [
    "We can now find the prior probability of each players' handicap. It won't take as much evidence for us to discount a player with an already-rare handicap."
   ]
  },
  {
   "cell_type": "code",
   "execution_count": null,
   "id": "b263ad18",
   "metadata": {},
   "outputs": [],
   "source": [
    "hcProbBinA = hcProbA.iloc[convertHandicapToRange(courseHandicapA)][\"Percentage of Golfers\"]\n",
    "hcProbBinB = hcProbB.iloc[convertHandicapToRange(courseHandicapB)][\"Percentage of Golfers\"]\n",
    "\n",
    "print(\"Player A's initial handicap of\", initialHandicapA, \"has a prior probability of\", hcProbBinA)\n",
    "print(\"Player B's initial handicap of\", initialHandicapB, \"has a prior probability of\", hcProbBinB)"
   ]
  },
  {
   "cell_type": "markdown",
   "id": "bf984fe9",
   "metadata": {},
   "source": [
    "Now that we have a prior distribution for each handicap, we just need the denominator of our equation, which is the probability of a given score generally occurring. Based on our model and assumptions, the probability of a given score is the sum of the probability of that score for each and every different handicap. This calculation will be based on the **handicap probability distribution** for each player and the **handicap index** of the hole. However, in order to find a probability for each handicap, we split each previous handicap band into five, so we have an associated probability for each handicap, rather than bands of five. This split is done assuming uniformity across each band. Since five-wide banded data is the most granular available, we make the assumption of intra-band uniformity."
   ]
  },
  {
   "cell_type": "code",
   "execution_count": null,
   "id": "69f2eab3",
   "metadata": {},
   "outputs": [],
   "source": [
    "hcProbMaleGranulated = pd.read_csv('Handicap_Probabilities_Male_Granulated.csv')\n",
    "hcProbFemaleGranulated = pd.read_csv('Handicap_Probabilities_Female_Granulated.csv')\n",
    "\n",
    "print('Male Granulated Distribution:\\n', hcProbMaleGranulated.shape, '\\n', hcProbMaleGranulated.head())\n",
    "print('Female Granulated Distribution:\\n', hcProbFemaleGranulated.shape, '\\n', hcProbFemaleGranulated.head())"
   ]
  },
  {
   "cell_type": "markdown",
   "id": "3a65fe6c",
   "metadata": {},
   "source": [
    "To find the probability of a score generally occuring, we need to make use of the **law of total probability** and sum over every conditional probability. That is, for the example of a birdie, we need to find the chance that a plus-handicapper makes a birdie, plus a 0-handicapper, plus a 1-handicapper, ..., plus a 53-handicapper, plus a 54-handicapper. This sum will give us the denominator."
   ]
  },
  {
   "cell_type": "code",
   "execution_count": null,
   "id": "56896e76",
   "metadata": {},
   "outputs": [],
   "source": [
    "def totalProb(scoreType, holeHandicap, gender):\n",
    "    \"\"\"\n",
    "    Finds the total probability of a given score on a given hole for a given gendered player\n",
    "    \n",
    "    Parameters:\n",
    "        scoreType (string): type of score achieved on a hole; ex: Birdie, Par, etc.\n",
    "        holeHandicap (int): handicap index of the hole at play; ex: 1, 2, 3, etc.\n",
    "        gender (string): gender of golfer; ex: male or female\n",
    "    Returns:\n",
    "        int: corresponding row in the DataFrame\n",
    "    \"\"\"\n",
    "    \n",
    "    if scoreType == \"Eagle\":\n",
    "        n = 0\n",
    "    elif scoreType == \"Birdie\":\n",
    "        n = 1\n",
    "    elif scoreType == \"Par\":\n",
    "        n = 2\n",
    "    elif scoreType == \"Bogey\":\n",
    "        n = 3\n",
    "    elif scoreType == \"Double Bogey+\":\n",
    "        n = 4\n",
    "        \n",
    "    data = [[\"Eagle\", eagleProb], [\"Birdie\", birdieProb], [\"Par\", parProb], [\"Bogey\", bogeyProb], [\"Double Bogey+\", doublePlusProb]]\n",
    "    df = pd.DataFrame(data, columns=['Score Type', 'Probability'])\n",
    "    \n",
    "    if gender == \"M\":\n",
    "        granulatedProb = hcProbMaleGranulated\n",
    "    if gender == \"F\":\n",
    "        granulatedProb = hcProbFemaleGranulated\n",
    "    \n",
    "    total = 0\n",
    "    for x in range(56):\n",
    "        if x - holeHandicap < 0:\n",
    "            total += (df.iloc[n]['Probability'] * granulatedProb.iloc[x]['Percentage of Golfers'])\n",
    "        elif x - holeHandicap < 18:\n",
    "            if n < 1:\n",
    "                total += 0\n",
    "            else:\n",
    "                total += (df.iloc[n-1]['Probability'] * granulatedProb.iloc[x]['Percentage of Golfers'])\n",
    "        elif x - holeHandicap < 36:\n",
    "            if n < 2:\n",
    "                total += 0\n",
    "            else:\n",
    "                total += (df.iloc[n-2]['Probability'] * granulatedProb.iloc[x]['Percentage of Golfers'])\n",
    "        else:\n",
    "            if n < 3:\n",
    "                total += 0\n",
    "            else:\n",
    "                total += (df.iloc[n-3]['Probability'] * granulatedProb.iloc[x]['Percentage of Golfers'])\n",
    "    \n",
    "    return total"
   ]
  },
  {
   "cell_type": "markdown",
   "id": "184407b7",
   "metadata": {},
   "source": [
    "Now that we have a function to find total probability, we will use it for each player."
   ]
  },
  {
   "cell_type": "code",
   "execution_count": null,
   "id": "02e13166",
   "metadata": {},
   "outputs": [],
   "source": [
    "totalProbA = totalProb(catScoreA, holeIndex, genderA)\n",
    "totalProbB = totalProb(catScoreB, holeIndex, genderB)\n",
    "print('Total probability of a', catScoreA, ':', totalProbA)\n",
    "print('Total probability of a', catScoreB, ':', totalProbB)"
   ]
  },
  {
   "cell_type": "markdown",
   "id": "e9ac4726",
   "metadata": {},
   "source": [
    "Now that we have our final variable, we can perform our bayesian update."
   ]
  },
  {
   "cell_type": "code",
   "execution_count": null,
   "id": "596b540d",
   "metadata": {
    "scrolled": true
   },
   "outputs": [],
   "source": [
    "probHandicapGivenScoreA = probPlayerA * hcProbBinA / totalProbA\n",
    "print('The probability that player A is a ', initialHandicapA, ' handicap is', probHandicapGivenScoreA)\n",
    "probHandicapGivenScoreB = probPlayerB * hcProbBinB / totalProbB\n",
    "print('The probability that player A is a ', initialHandicapB, ' handicap is', probHandicapGivenScoreB)"
   ]
  },
  {
   "cell_type": "markdown",
   "id": "b4979eba",
   "metadata": {},
   "source": [
    "Now, we have found the probability of a player being their previously asserted handicap. However, this does not tell us if this is the **most likely** handicap for them. To determine which handicap we should adjust them to, we need to find their probability for *each* handicap. Then, we can find the expected value among all handicaps. The expected value will be their newly assigned handicap."
   ]
  },
  {
   "cell_type": "code",
   "execution_count": null,
   "id": "a4b82711",
   "metadata": {},
   "outputs": [],
   "source": [
    "allHCsProbPlayerA = []\n",
    "allHCsCatPlayerA = []\n",
    "\n",
    "allHCsProbPlayerB = []\n",
    "allHCsCatPlayerB = []\n",
    "for x in range(-1,55):\n",
    "    if (x - holeIndex) >= 36:\n",
    "        adjCatScoreA = convertScore(scoreA - 3, holePar)\n",
    "    elif (x - holeIndex) >= 18:\n",
    "        adjCatScoreA = convertScore(scoreA - 2, holePar)\n",
    "    elif (x - holeIndex) >= 0:\n",
    "        adjCatScoreA = convertScore(scoreA - 1, holePar)\n",
    "    else:\n",
    "        adjCatScoreA = catScoreA\n",
    "    \n",
    "    if (x - holeIndex) >= 36:\n",
    "        adjCatScoreB = convertScore(scoreB - 3, holePar)\n",
    "    elif (x - holeIndex) >= 18:\n",
    "        adjCatScoreB = convertScore(scoreB - 2, holePar)\n",
    "    elif (x - holeIndex) >= 0:\n",
    "        adjCatScoreB = convertScore(scoreB - 1, holePar)\n",
    "    else:\n",
    "        adjCatScoreB = catScoreB\n",
    "    \n",
    "    \n",
    "    allHCsProbPlayerA.append(d2[adjCatScoreA])\n",
    "    allHCsCatPlayerA.append(convertScore(scoreA, holePar))\n",
    "    \n",
    "    allHCsProbPlayerB.append(d2[adjCatScoreB])\n",
    "    allHCsCatPlayerB.append(convertScore(scoreB, holePar))"
   ]
  },
  {
   "cell_type": "markdown",
   "id": "99b31a8f",
   "metadata": {},
   "source": [
    "We have now created arrays containg the adjusted scoring probabilities of each player's score for *every* handicap."
   ]
  },
  {
   "cell_type": "markdown",
   "id": "2f600bbb",
   "metadata": {},
   "source": [
    "Now that we have determined the probability of each score for every handicap, we need the probability of every handicap. As before, this comes from our granulated table of probabilities. Next, the denominator remains as before, our total probabilities"
   ]
  },
  {
   "cell_type": "code",
   "execution_count": null,
   "id": "cb75ee50",
   "metadata": {},
   "outputs": [],
   "source": [
    "if genderA == \"M\":\n",
    "    granulatedProbA = hcProbMaleGranulated\n",
    "if genderA == \"F\":\n",
    "    granulatedProbA = hcProbFemaleGranulated\n",
    "if genderA == \"M\":\n",
    "    granulatedProbB = hcProbMaleGranulated\n",
    "if genderA == \"F\":\n",
    "    granulatedProbB = hcProbFemaleGranulated\n",
    "\n",
    "probEachHandicapA = allHCsProbPlayerA * granulatedProbA['Percentage of Golfers'] / totalProbA\n",
    "probEachHandicapB = allHCsProbPlayerB * granulatedProbB['Percentage of Golfers'] / totalProbB"
   ]
  },
  {
   "cell_type": "markdown",
   "id": "0a025de2",
   "metadata": {},
   "source": [
    "Now, we have a distribution for the probability that *each* golfer is *each* handicap. We just need to find the expected value from this distribution, the mean. This result will tell us what handicap, based on performance on this hole, each golfer should play as for the next hole."
   ]
  },
  {
   "cell_type": "code",
   "execution_count": null,
   "id": "df215ceb",
   "metadata": {},
   "outputs": [],
   "source": [
    "sumA = 0\n",
    "sumB = 0\n",
    "for x in range(56):\n",
    "    sumA += x * probEachHandicapA[x]\n",
    "    sumB += x * probEachHandicapB[x]\n",
    "\n",
    "print('The updated handicap for Player A is:', sumA)\n",
    "print('The updated handicap for Player B is:', sumB)"
   ]
  },
  {
   "cell_type": "markdown",
   "id": "7b78ebe7",
   "metadata": {},
   "source": [
    "Player A's handicap increases slightly. This makes sense, as Player A recorded a poor score, and, thus, we may believe them to be a slightly worse player than they asserted. However, Player B's new handicap is unexpected. Player B has a good result, however, their handicap also went up. How can this be? Well, Bayesian Updating considers the population distribution as well as the "
   ]
  }
 ],
 "metadata": {
  "kernelspec": {
   "display_name": "Python 3 (ipykernel)",
   "language": "python",
   "name": "python3"
  },
  "language_info": {
   "codemirror_mode": {
    "name": "ipython",
    "version": 3
   },
   "file_extension": ".py",
   "mimetype": "text/x-python",
   "name": "python",
   "nbconvert_exporter": "python",
   "pygments_lexer": "ipython3",
   "version": "3.9.12"
  }
 },
 "nbformat": 4,
 "nbformat_minor": 5
}
